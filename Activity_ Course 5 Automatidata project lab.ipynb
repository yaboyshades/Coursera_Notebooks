{
 "cells": [
  {
   "cell_type": "markdown",
   "metadata": {
    "id": "DtNBZFHO3M7n"
   },
   "source": [
    "# **Automatidata project**\n",
    "**Course 5 - Regression Analysis: Simplify complex data relationships**"
   ]
  },
  {
   "cell_type": "markdown",
   "metadata": {
    "id": "kaOj1equPMAb"
   },
   "source": [
    "The data consulting firm Automatidata has recently hired you as the newest member of their data analytics team. Their newest client, the NYC Taxi and Limousine Commission (New York City TLC), wants the Automatidata team to build a multiple linear regression model to predict taxi fares using existing data that was collected over the course of a year. The team is getting closer to completing the project, having completed an initial plan of action, initial Python coding work, EDA, and A/B testing.\n",
    "\n",
    "The Automatidata team has reviewed the results of the A/B testing. Now it’s time to work on predicting the taxi fare amounts. You’ve impressed your Automatidata colleagues with your hard work and attention to detail. The data team believes that you are ready to build the regression model and update the client New York City TLC about your progress.\n",
    "\n",
    "A notebook was structured and prepared to help you in this project. Please complete the following questions."
   ]
  },
  {
   "cell_type": "markdown",
   "metadata": {
    "id": "rgSbVJvomcVa"
   },
   "source": [
    "# Course 5 End-of-course project: Build a multiple linear regression model\n",
    "\n",
    "In this activity, you will build a multiple linear regression model. As you've learned, multiple linear regression helps you estimate the linear relationship between one continuous dependent variable and two or more independent variables. For data science professionals, this is a useful skill because it allows you to consider more than one variable against the variable you're measuring against. This opens the door for much more thorough and flexible analysis to be completed. \n",
    "\n",
    "Completing this activity will help you practice planning out and buidling a multiple linear regression model based on a specific business need. The structure of this activity is designed to emulate the proposals you will likely be assigned in your career as a data professional. Completing this activity will help prepare you for those career moments.\n",
    "<br/>\n",
    "\n",
    "**The purpose** of this project is to demostrate knowledge of EDA and a multiple linear regression model\n",
    "\n",
    "**The goal** is to build a multiple linear regression model and evaluate the model\n",
    "<br/>\n",
    "*This activity has three parts:*\n",
    "\n",
    "**Part 1:** EDA & Checking Model Assumptions\n",
    "* What are some purposes of EDA before constructing a multiple linear regression model?\n",
    "\n",
    "**Part 2:** Model Building and evaluation\n",
    "* What resources do you find yourself using as you complete this stage?\n",
    "\n",
    "**Part 3:** Interpreting Model Results\n",
    "\n",
    "* What key insights emerged from your model(s)?\n",
    "\n",
    "* What business recommendations do you propose based on the models built?"
   ]
  },
  {
   "cell_type": "markdown",
   "metadata": {
    "id": "7KFOyc3JPSiN"
   },
   "source": [
    "# Build a multiple linear regression model"
   ]
  },
  {
   "cell_type": "markdown",
   "metadata": {
    "id": "3UCHQclzQDUL"
   },
   "source": [
    "<img src=\"images/Pace.png\" width=\"100\" height=\"100\" align=left>\n",
    "\n",
    "# **PACE stages**\n"
   ]
  },
  {
   "cell_type": "markdown",
   "metadata": {},
   "source": [
    "Throughout these project notebooks, you'll see references to the problem-solving framework PACE. The following notebook components are labeled with the respective PACE stage: Plan, Analyze, Construct, and Execute."
   ]
  },
  {
   "cell_type": "markdown",
   "metadata": {
    "id": "F5O5cx_qQJmX"
   },
   "source": [
    "<img src=\"images/Plan.png\" width=\"100\" height=\"100\" align=left>\n",
    "\n",
    "\n",
    "## PACE: **Plan**\n",
    "\n",
    "Consider the questions in your PACE Strategy Document to reflect on the Plan stage.\n"
   ]
  },
  {
   "cell_type": "markdown",
   "metadata": {
    "id": "D8qYlvkLQsf2"
   },
   "source": [
    "### Task 1. Imports and loading\n",
    "Import the packages that you've learned are needed for building linear regression models."
   ]
  },
  {
   "cell_type": "code",
   "execution_count": 2,
   "metadata": {
    "id": "ccfeg6X6eOVZ"
   },
   "outputs": [],
   "source": [
    "# Imports\n",
    "# Packages for numerics + dataframes\n",
    "import pandas as pd\n",
    "import numpy as np\n",
    "\n",
    "# Packages for visualization\n",
    "import matplotlib.pyplot as plt\n",
    "import seaborn as sns\n",
    "\n",
    "# Packages for date conversions for calculating trip durations\n",
    "from datetime import datetime\n",
    "\n",
    "# Packages for OLS, MLR, confusion matrix\n",
    "import statsmodels.api as sm\n",
    "from sklearn.linear_model import LinearRegression\n",
    "from sklearn.metrics import mean_squared_error, r2_score, confusion_matrix\n"
   ]
  },
  {
   "cell_type": "markdown",
   "metadata": {
    "id": "dhSYPrzQ2lpH"
   },
   "source": [
    "**Note:** `Pandas` is used to load the NYC TLC dataset. As shown in this cell, the dataset has been automatically loaded in for you. You do not need to download the .csv file, or provide more code, in order to access the dataset and proceed with this lab. Please continue with this activity by completing the following instructions."
   ]
  },
  {
   "cell_type": "code",
   "execution_count": 15,
   "metadata": {
    "id": "TyR3sBUYJBO8"
   },
   "outputs": [],
   "source": [
    "# Load dataset into dataframe \n",
    "df=pd.read_csv(\"2017_Yellow_Taxi_Trip_Data.csv\") "
   ]
  },
  {
   "cell_type": "markdown",
   "metadata": {
    "id": "OnrvCSfHUWPv"
   },
   "source": [
    "<img src=\"images/Analyze.png\" width=\"100\" height=\"100\" align=left>\n",
    "\n",
    "## PACE: **Analyze**\n",
    "\n",
    "In this stage, consider the following question where applicable to complete your code response:\n",
    "\n",
    "* What are some purposes of EDA before constructing a multiple linear regression model?\n"
   ]
  },
  {
   "cell_type": "markdown",
   "metadata": {},
   "source": [
    "==> ENTER YOUR RESPONSE HERE "
   ]
  },
  {
   "cell_type": "markdown",
   "metadata": {
    "id": "rIcDG2e66wt9"
   },
   "source": [
    "### Task 2a. Explore data with EDA\n",
    "\n",
    "Analyze and discover data, looking for correlations, missing data, outliers, and duplicates."
   ]
  },
  {
   "cell_type": "markdown",
   "metadata": {
    "id": "CLpoUCz1277k"
   },
   "source": [
    "Start with `.shape` and `.info()`."
   ]
  },
  {
   "cell_type": "code",
   "execution_count": 16,
   "metadata": {
    "id": "T4Ag-sZhWg6K"
   },
   "outputs": [
    {
     "name": "stdout",
     "output_type": "stream",
     "text": [
      "(22699, 18)\n",
      "<class 'pandas.core.frame.DataFrame'>\n",
      "RangeIndex: 22699 entries, 0 to 22698\n",
      "Data columns (total 18 columns):\n",
      " #   Column                 Non-Null Count  Dtype  \n",
      "---  ------                 --------------  -----  \n",
      " 0   Unnamed: 0             22699 non-null  int64  \n",
      " 1   VendorID               22699 non-null  int64  \n",
      " 2   tpep_pickup_datetime   22699 non-null  object \n",
      " 3   tpep_dropoff_datetime  22699 non-null  object \n",
      " 4   passenger_count        22699 non-null  int64  \n",
      " 5   trip_distance          22699 non-null  float64\n",
      " 6   RatecodeID             22699 non-null  int64  \n",
      " 7   store_and_fwd_flag     22699 non-null  object \n",
      " 8   PULocationID           22699 non-null  int64  \n",
      " 9   DOLocationID           22699 non-null  int64  \n",
      " 10  payment_type           22699 non-null  int64  \n",
      " 11  fare_amount            22699 non-null  float64\n",
      " 12  extra                  22699 non-null  float64\n",
      " 13  mta_tax                22699 non-null  float64\n",
      " 14  tip_amount             22699 non-null  float64\n",
      " 15  tolls_amount           22699 non-null  float64\n",
      " 16  improvement_surcharge  22699 non-null  float64\n",
      " 17  total_amount           22699 non-null  float64\n",
      "dtypes: float64(8), int64(7), object(3)\n",
      "memory usage: 3.1+ MB\n",
      "None\n",
      "Unnamed: 0               0\n",
      "VendorID                 0\n",
      "tpep_pickup_datetime     0\n",
      "tpep_dropoff_datetime    0\n",
      "passenger_count          0\n",
      "trip_distance            0\n",
      "RatecodeID               0\n",
      "store_and_fwd_flag       0\n",
      "PULocationID             0\n",
      "DOLocationID             0\n",
      "payment_type             0\n",
      "fare_amount              0\n",
      "extra                    0\n",
      "mta_tax                  0\n",
      "tip_amount               0\n",
      "tolls_amount             0\n",
      "improvement_surcharge    0\n",
      "total_amount             0\n",
      "dtype: int64\n",
      "         Unnamed: 0      VendorID  passenger_count  trip_distance  \\\n",
      "count  2.269900e+04  22699.000000     22699.000000   22699.000000   \n",
      "mean   5.675849e+07      1.556236         1.642319       2.913313   \n",
      "std    3.274493e+07      0.496838         1.285231       3.653171   \n",
      "min    1.212700e+04      1.000000         0.000000       0.000000   \n",
      "25%    2.852056e+07      1.000000         1.000000       0.990000   \n",
      "50%    5.673150e+07      2.000000         1.000000       1.610000   \n",
      "75%    8.537452e+07      2.000000         2.000000       3.060000   \n",
      "max    1.134863e+08      2.000000         6.000000      33.960000   \n",
      "\n",
      "         RatecodeID  PULocationID  DOLocationID  payment_type   fare_amount  \\\n",
      "count  22699.000000  22699.000000  22699.000000  22699.000000  22699.000000   \n",
      "mean       1.043394    162.412353    161.527997      1.336887     13.026629   \n",
      "std        0.708391     66.633373     70.139691      0.496211     13.243791   \n",
      "min        1.000000      1.000000      1.000000      1.000000   -120.000000   \n",
      "25%        1.000000    114.000000    112.000000      1.000000      6.500000   \n",
      "50%        1.000000    162.000000    162.000000      1.000000      9.500000   \n",
      "75%        1.000000    233.000000    233.000000      2.000000     14.500000   \n",
      "max       99.000000    265.000000    265.000000      4.000000    999.990000   \n",
      "\n",
      "              extra       mta_tax    tip_amount  tolls_amount  \\\n",
      "count  22699.000000  22699.000000  22699.000000  22699.000000   \n",
      "mean       0.333275      0.497445      1.835781      0.312542   \n",
      "std        0.463097      0.039465      2.800626      1.399212   \n",
      "min       -1.000000     -0.500000      0.000000      0.000000   \n",
      "25%        0.000000      0.500000      0.000000      0.000000   \n",
      "50%        0.000000      0.500000      1.350000      0.000000   \n",
      "75%        0.500000      0.500000      2.450000      0.000000   \n",
      "max        4.500000      0.500000    200.000000     19.100000   \n",
      "\n",
      "       improvement_surcharge  total_amount  \n",
      "count           22699.000000  22699.000000  \n",
      "mean                0.299551     16.310502  \n",
      "std                 0.015673     16.097295  \n",
      "min                -0.300000   -120.300000  \n",
      "25%                 0.300000      8.750000  \n",
      "50%                 0.300000     11.800000  \n",
      "75%                 0.300000     17.800000  \n",
      "max                 0.300000   1200.290000  \n"
     ]
    }
   ],
   "source": [
    "# Basic dataset exploration\n",
    "print(df.shape)\n",
    "print(df.info())\n",
    "\n",
    "# Check for missing data and duplicates\n",
    "print(df.isna().sum())\n",
    "df.drop_duplicates(inplace=True)\n",
    "\n",
    "# Use .describe() to get statistical summaries\n",
    "print(df.describe())\n"
   ]
  },
  {
   "cell_type": "markdown",
   "metadata": {
    "id": "SWLHv_h_3Hcf"
   },
   "source": [
    "Check for missing data and duplicates using `.isna()` and `.drop_duplicates()`."
   ]
  },
  {
   "cell_type": "code",
   "execution_count": 19,
   "metadata": {
    "id": "3QZZIxxi3OV3"
   },
   "outputs": [
    {
     "data": {
      "text/html": [
       "<div>\n",
       "<style scoped>\n",
       "    .dataframe tbody tr th:only-of-type {\n",
       "        vertical-align: middle;\n",
       "    }\n",
       "\n",
       "    .dataframe tbody tr th {\n",
       "        vertical-align: top;\n",
       "    }\n",
       "\n",
       "    .dataframe thead th {\n",
       "        text-align: right;\n",
       "    }\n",
       "</style>\n",
       "<table border=\"1\" class=\"dataframe\">\n",
       "  <thead>\n",
       "    <tr style=\"text-align: right;\">\n",
       "      <th></th>\n",
       "      <th>Unnamed: 0</th>\n",
       "      <th>VendorID</th>\n",
       "      <th>tpep_pickup_datetime</th>\n",
       "      <th>tpep_dropoff_datetime</th>\n",
       "      <th>passenger_count</th>\n",
       "      <th>trip_distance</th>\n",
       "      <th>RatecodeID</th>\n",
       "      <th>store_and_fwd_flag</th>\n",
       "      <th>PULocationID</th>\n",
       "      <th>DOLocationID</th>\n",
       "      <th>payment_type</th>\n",
       "      <th>fare_amount</th>\n",
       "      <th>extra</th>\n",
       "      <th>mta_tax</th>\n",
       "      <th>tip_amount</th>\n",
       "      <th>tolls_amount</th>\n",
       "      <th>improvement_surcharge</th>\n",
       "      <th>total_amount</th>\n",
       "    </tr>\n",
       "  </thead>\n",
       "  <tbody>\n",
       "    <tr>\n",
       "      <th>0</th>\n",
       "      <td>24870114</td>\n",
       "      <td>2</td>\n",
       "      <td>03/25/2017 8:55:43 AM</td>\n",
       "      <td>03/25/2017 9:09:47 AM</td>\n",
       "      <td>6</td>\n",
       "      <td>3.34</td>\n",
       "      <td>1</td>\n",
       "      <td>N</td>\n",
       "      <td>100</td>\n",
       "      <td>231</td>\n",
       "      <td>1</td>\n",
       "      <td>13.0</td>\n",
       "      <td>0.0</td>\n",
       "      <td>0.5</td>\n",
       "      <td>2.76</td>\n",
       "      <td>0.00</td>\n",
       "      <td>0.3</td>\n",
       "      <td>16.56</td>\n",
       "    </tr>\n",
       "    <tr>\n",
       "      <th>1</th>\n",
       "      <td>35634249</td>\n",
       "      <td>1</td>\n",
       "      <td>04/11/2017 2:53:28 PM</td>\n",
       "      <td>04/11/2017 3:19:58 PM</td>\n",
       "      <td>1</td>\n",
       "      <td>1.80</td>\n",
       "      <td>1</td>\n",
       "      <td>N</td>\n",
       "      <td>186</td>\n",
       "      <td>43</td>\n",
       "      <td>1</td>\n",
       "      <td>16.0</td>\n",
       "      <td>0.0</td>\n",
       "      <td>0.5</td>\n",
       "      <td>4.00</td>\n",
       "      <td>0.00</td>\n",
       "      <td>0.3</td>\n",
       "      <td>20.80</td>\n",
       "    </tr>\n",
       "    <tr>\n",
       "      <th>2</th>\n",
       "      <td>106203690</td>\n",
       "      <td>1</td>\n",
       "      <td>12/15/2017 7:26:56 AM</td>\n",
       "      <td>12/15/2017 7:34:08 AM</td>\n",
       "      <td>1</td>\n",
       "      <td>1.00</td>\n",
       "      <td>1</td>\n",
       "      <td>N</td>\n",
       "      <td>262</td>\n",
       "      <td>236</td>\n",
       "      <td>1</td>\n",
       "      <td>6.5</td>\n",
       "      <td>0.0</td>\n",
       "      <td>0.5</td>\n",
       "      <td>1.45</td>\n",
       "      <td>0.00</td>\n",
       "      <td>0.3</td>\n",
       "      <td>8.75</td>\n",
       "    </tr>\n",
       "    <tr>\n",
       "      <th>3</th>\n",
       "      <td>38942136</td>\n",
       "      <td>2</td>\n",
       "      <td>05/07/2017 1:17:59 PM</td>\n",
       "      <td>05/07/2017 1:48:14 PM</td>\n",
       "      <td>1</td>\n",
       "      <td>3.70</td>\n",
       "      <td>1</td>\n",
       "      <td>N</td>\n",
       "      <td>188</td>\n",
       "      <td>97</td>\n",
       "      <td>1</td>\n",
       "      <td>20.5</td>\n",
       "      <td>0.0</td>\n",
       "      <td>0.5</td>\n",
       "      <td>6.39</td>\n",
       "      <td>0.00</td>\n",
       "      <td>0.3</td>\n",
       "      <td>27.69</td>\n",
       "    </tr>\n",
       "    <tr>\n",
       "      <th>4</th>\n",
       "      <td>30841670</td>\n",
       "      <td>2</td>\n",
       "      <td>04/15/2017 11:32:20 PM</td>\n",
       "      <td>04/15/2017 11:49:03 PM</td>\n",
       "      <td>1</td>\n",
       "      <td>4.37</td>\n",
       "      <td>1</td>\n",
       "      <td>N</td>\n",
       "      <td>4</td>\n",
       "      <td>112</td>\n",
       "      <td>2</td>\n",
       "      <td>16.5</td>\n",
       "      <td>0.5</td>\n",
       "      <td>0.5</td>\n",
       "      <td>0.00</td>\n",
       "      <td>0.00</td>\n",
       "      <td>0.3</td>\n",
       "      <td>17.80</td>\n",
       "    </tr>\n",
       "    <tr>\n",
       "      <th>...</th>\n",
       "      <td>...</td>\n",
       "      <td>...</td>\n",
       "      <td>...</td>\n",
       "      <td>...</td>\n",
       "      <td>...</td>\n",
       "      <td>...</td>\n",
       "      <td>...</td>\n",
       "      <td>...</td>\n",
       "      <td>...</td>\n",
       "      <td>...</td>\n",
       "      <td>...</td>\n",
       "      <td>...</td>\n",
       "      <td>...</td>\n",
       "      <td>...</td>\n",
       "      <td>...</td>\n",
       "      <td>...</td>\n",
       "      <td>...</td>\n",
       "      <td>...</td>\n",
       "    </tr>\n",
       "    <tr>\n",
       "      <th>22694</th>\n",
       "      <td>14873857</td>\n",
       "      <td>2</td>\n",
       "      <td>02/24/2017 5:37:23 PM</td>\n",
       "      <td>02/24/2017 5:40:39 PM</td>\n",
       "      <td>3</td>\n",
       "      <td>0.61</td>\n",
       "      <td>1</td>\n",
       "      <td>N</td>\n",
       "      <td>48</td>\n",
       "      <td>186</td>\n",
       "      <td>2</td>\n",
       "      <td>4.0</td>\n",
       "      <td>1.0</td>\n",
       "      <td>0.5</td>\n",
       "      <td>0.00</td>\n",
       "      <td>0.00</td>\n",
       "      <td>0.3</td>\n",
       "      <td>5.80</td>\n",
       "    </tr>\n",
       "    <tr>\n",
       "      <th>22695</th>\n",
       "      <td>66632549</td>\n",
       "      <td>2</td>\n",
       "      <td>08/06/2017 4:43:59 PM</td>\n",
       "      <td>08/06/2017 5:24:47 PM</td>\n",
       "      <td>1</td>\n",
       "      <td>16.71</td>\n",
       "      <td>2</td>\n",
       "      <td>N</td>\n",
       "      <td>132</td>\n",
       "      <td>164</td>\n",
       "      <td>1</td>\n",
       "      <td>52.0</td>\n",
       "      <td>0.0</td>\n",
       "      <td>0.5</td>\n",
       "      <td>14.64</td>\n",
       "      <td>5.76</td>\n",
       "      <td>0.3</td>\n",
       "      <td>73.20</td>\n",
       "    </tr>\n",
       "    <tr>\n",
       "      <th>22696</th>\n",
       "      <td>74239933</td>\n",
       "      <td>2</td>\n",
       "      <td>09/04/2017 2:54:14 PM</td>\n",
       "      <td>09/04/2017 2:58:22 PM</td>\n",
       "      <td>1</td>\n",
       "      <td>0.42</td>\n",
       "      <td>1</td>\n",
       "      <td>N</td>\n",
       "      <td>107</td>\n",
       "      <td>234</td>\n",
       "      <td>2</td>\n",
       "      <td>4.5</td>\n",
       "      <td>0.0</td>\n",
       "      <td>0.5</td>\n",
       "      <td>0.00</td>\n",
       "      <td>0.00</td>\n",
       "      <td>0.3</td>\n",
       "      <td>5.30</td>\n",
       "    </tr>\n",
       "    <tr>\n",
       "      <th>22697</th>\n",
       "      <td>60217333</td>\n",
       "      <td>2</td>\n",
       "      <td>07/15/2017 12:56:30 PM</td>\n",
       "      <td>07/15/2017 1:08:26 PM</td>\n",
       "      <td>1</td>\n",
       "      <td>2.36</td>\n",
       "      <td>1</td>\n",
       "      <td>N</td>\n",
       "      <td>68</td>\n",
       "      <td>144</td>\n",
       "      <td>1</td>\n",
       "      <td>10.5</td>\n",
       "      <td>0.0</td>\n",
       "      <td>0.5</td>\n",
       "      <td>1.70</td>\n",
       "      <td>0.00</td>\n",
       "      <td>0.3</td>\n",
       "      <td>13.00</td>\n",
       "    </tr>\n",
       "    <tr>\n",
       "      <th>22698</th>\n",
       "      <td>17208911</td>\n",
       "      <td>1</td>\n",
       "      <td>03/02/2017 1:02:49 PM</td>\n",
       "      <td>03/02/2017 1:16:09 PM</td>\n",
       "      <td>1</td>\n",
       "      <td>2.10</td>\n",
       "      <td>1</td>\n",
       "      <td>N</td>\n",
       "      <td>239</td>\n",
       "      <td>236</td>\n",
       "      <td>1</td>\n",
       "      <td>11.0</td>\n",
       "      <td>0.0</td>\n",
       "      <td>0.5</td>\n",
       "      <td>2.35</td>\n",
       "      <td>0.00</td>\n",
       "      <td>0.3</td>\n",
       "      <td>14.15</td>\n",
       "    </tr>\n",
       "  </tbody>\n",
       "</table>\n",
       "<p>22699 rows × 18 columns</p>\n",
       "</div>"
      ],
      "text/plain": [
       "       Unnamed: 0  VendorID    tpep_pickup_datetime   tpep_dropoff_datetime  \\\n",
       "0        24870114         2   03/25/2017 8:55:43 AM   03/25/2017 9:09:47 AM   \n",
       "1        35634249         1   04/11/2017 2:53:28 PM   04/11/2017 3:19:58 PM   \n",
       "2       106203690         1   12/15/2017 7:26:56 AM   12/15/2017 7:34:08 AM   \n",
       "3        38942136         2   05/07/2017 1:17:59 PM   05/07/2017 1:48:14 PM   \n",
       "4        30841670         2  04/15/2017 11:32:20 PM  04/15/2017 11:49:03 PM   \n",
       "...           ...       ...                     ...                     ...   \n",
       "22694    14873857         2   02/24/2017 5:37:23 PM   02/24/2017 5:40:39 PM   \n",
       "22695    66632549         2   08/06/2017 4:43:59 PM   08/06/2017 5:24:47 PM   \n",
       "22696    74239933         2   09/04/2017 2:54:14 PM   09/04/2017 2:58:22 PM   \n",
       "22697    60217333         2  07/15/2017 12:56:30 PM   07/15/2017 1:08:26 PM   \n",
       "22698    17208911         1   03/02/2017 1:02:49 PM   03/02/2017 1:16:09 PM   \n",
       "\n",
       "       passenger_count  trip_distance  RatecodeID store_and_fwd_flag  \\\n",
       "0                    6           3.34           1                  N   \n",
       "1                    1           1.80           1                  N   \n",
       "2                    1           1.00           1                  N   \n",
       "3                    1           3.70           1                  N   \n",
       "4                    1           4.37           1                  N   \n",
       "...                ...            ...         ...                ...   \n",
       "22694                3           0.61           1                  N   \n",
       "22695                1          16.71           2                  N   \n",
       "22696                1           0.42           1                  N   \n",
       "22697                1           2.36           1                  N   \n",
       "22698                1           2.10           1                  N   \n",
       "\n",
       "       PULocationID  DOLocationID  payment_type  fare_amount  extra  mta_tax  \\\n",
       "0               100           231             1         13.0    0.0      0.5   \n",
       "1               186            43             1         16.0    0.0      0.5   \n",
       "2               262           236             1          6.5    0.0      0.5   \n",
       "3               188            97             1         20.5    0.0      0.5   \n",
       "4                 4           112             2         16.5    0.5      0.5   \n",
       "...             ...           ...           ...          ...    ...      ...   \n",
       "22694            48           186             2          4.0    1.0      0.5   \n",
       "22695           132           164             1         52.0    0.0      0.5   \n",
       "22696           107           234             2          4.5    0.0      0.5   \n",
       "22697            68           144             1         10.5    0.0      0.5   \n",
       "22698           239           236             1         11.0    0.0      0.5   \n",
       "\n",
       "       tip_amount  tolls_amount  improvement_surcharge  total_amount  \n",
       "0            2.76          0.00                    0.3         16.56  \n",
       "1            4.00          0.00                    0.3         20.80  \n",
       "2            1.45          0.00                    0.3          8.75  \n",
       "3            6.39          0.00                    0.3         27.69  \n",
       "4            0.00          0.00                    0.3         17.80  \n",
       "...           ...           ...                    ...           ...  \n",
       "22694        0.00          0.00                    0.3          5.80  \n",
       "22695       14.64          5.76                    0.3         73.20  \n",
       "22696        0.00          0.00                    0.3          5.30  \n",
       "22697        1.70          0.00                    0.3         13.00  \n",
       "22698        2.35          0.00                    0.3         14.15  \n",
       "\n",
       "[22699 rows x 18 columns]"
      ]
     },
     "execution_count": 19,
     "metadata": {},
     "output_type": "execute_result"
    }
   ],
   "source": [
    "# Check for missing data and duplicates using .isna() and .drop_duplicates()\n",
    "### YOUR CODE HERE ###"
   ]
  },
  {
   "cell_type": "markdown",
   "metadata": {
    "id": "WXWAlPTY9iLK"
   },
   "source": [
    "Use `.describe()`."
   ]
  },
  {
   "cell_type": "code",
   "execution_count": 20,
   "metadata": {
    "id": "2O3b9H9B9nwk"
   },
   "outputs": [
    {
     "data": {
      "text/html": [
       "<div>\n",
       "<style scoped>\n",
       "    .dataframe tbody tr th:only-of-type {\n",
       "        vertical-align: middle;\n",
       "    }\n",
       "\n",
       "    .dataframe tbody tr th {\n",
       "        vertical-align: top;\n",
       "    }\n",
       "\n",
       "    .dataframe thead th {\n",
       "        text-align: right;\n",
       "    }\n",
       "</style>\n",
       "<table border=\"1\" class=\"dataframe\">\n",
       "  <thead>\n",
       "    <tr style=\"text-align: right;\">\n",
       "      <th></th>\n",
       "      <th>Unnamed: 0</th>\n",
       "      <th>VendorID</th>\n",
       "      <th>passenger_count</th>\n",
       "      <th>trip_distance</th>\n",
       "      <th>RatecodeID</th>\n",
       "      <th>PULocationID</th>\n",
       "      <th>DOLocationID</th>\n",
       "      <th>payment_type</th>\n",
       "      <th>fare_amount</th>\n",
       "      <th>extra</th>\n",
       "      <th>mta_tax</th>\n",
       "      <th>tip_amount</th>\n",
       "      <th>tolls_amount</th>\n",
       "      <th>improvement_surcharge</th>\n",
       "      <th>total_amount</th>\n",
       "    </tr>\n",
       "  </thead>\n",
       "  <tbody>\n",
       "    <tr>\n",
       "      <th>count</th>\n",
       "      <td>2.269900e+04</td>\n",
       "      <td>22699.000000</td>\n",
       "      <td>22699.000000</td>\n",
       "      <td>22699.000000</td>\n",
       "      <td>22699.000000</td>\n",
       "      <td>22699.000000</td>\n",
       "      <td>22699.000000</td>\n",
       "      <td>22699.000000</td>\n",
       "      <td>22699.000000</td>\n",
       "      <td>22699.000000</td>\n",
       "      <td>22699.000000</td>\n",
       "      <td>22699.000000</td>\n",
       "      <td>22699.000000</td>\n",
       "      <td>22699.000000</td>\n",
       "      <td>22699.000000</td>\n",
       "    </tr>\n",
       "    <tr>\n",
       "      <th>mean</th>\n",
       "      <td>5.675849e+07</td>\n",
       "      <td>1.556236</td>\n",
       "      <td>1.642319</td>\n",
       "      <td>2.913313</td>\n",
       "      <td>1.043394</td>\n",
       "      <td>162.412353</td>\n",
       "      <td>161.527997</td>\n",
       "      <td>1.336887</td>\n",
       "      <td>13.026629</td>\n",
       "      <td>0.333275</td>\n",
       "      <td>0.497445</td>\n",
       "      <td>1.835781</td>\n",
       "      <td>0.312542</td>\n",
       "      <td>0.299551</td>\n",
       "      <td>16.310502</td>\n",
       "    </tr>\n",
       "    <tr>\n",
       "      <th>std</th>\n",
       "      <td>3.274493e+07</td>\n",
       "      <td>0.496838</td>\n",
       "      <td>1.285231</td>\n",
       "      <td>3.653171</td>\n",
       "      <td>0.708391</td>\n",
       "      <td>66.633373</td>\n",
       "      <td>70.139691</td>\n",
       "      <td>0.496211</td>\n",
       "      <td>13.243791</td>\n",
       "      <td>0.463097</td>\n",
       "      <td>0.039465</td>\n",
       "      <td>2.800626</td>\n",
       "      <td>1.399212</td>\n",
       "      <td>0.015673</td>\n",
       "      <td>16.097295</td>\n",
       "    </tr>\n",
       "    <tr>\n",
       "      <th>min</th>\n",
       "      <td>1.212700e+04</td>\n",
       "      <td>1.000000</td>\n",
       "      <td>0.000000</td>\n",
       "      <td>0.000000</td>\n",
       "      <td>1.000000</td>\n",
       "      <td>1.000000</td>\n",
       "      <td>1.000000</td>\n",
       "      <td>1.000000</td>\n",
       "      <td>-120.000000</td>\n",
       "      <td>-1.000000</td>\n",
       "      <td>-0.500000</td>\n",
       "      <td>0.000000</td>\n",
       "      <td>0.000000</td>\n",
       "      <td>-0.300000</td>\n",
       "      <td>-120.300000</td>\n",
       "    </tr>\n",
       "    <tr>\n",
       "      <th>25%</th>\n",
       "      <td>2.852056e+07</td>\n",
       "      <td>1.000000</td>\n",
       "      <td>1.000000</td>\n",
       "      <td>0.990000</td>\n",
       "      <td>1.000000</td>\n",
       "      <td>114.000000</td>\n",
       "      <td>112.000000</td>\n",
       "      <td>1.000000</td>\n",
       "      <td>6.500000</td>\n",
       "      <td>0.000000</td>\n",
       "      <td>0.500000</td>\n",
       "      <td>0.000000</td>\n",
       "      <td>0.000000</td>\n",
       "      <td>0.300000</td>\n",
       "      <td>8.750000</td>\n",
       "    </tr>\n",
       "    <tr>\n",
       "      <th>50%</th>\n",
       "      <td>5.673150e+07</td>\n",
       "      <td>2.000000</td>\n",
       "      <td>1.000000</td>\n",
       "      <td>1.610000</td>\n",
       "      <td>1.000000</td>\n",
       "      <td>162.000000</td>\n",
       "      <td>162.000000</td>\n",
       "      <td>1.000000</td>\n",
       "      <td>9.500000</td>\n",
       "      <td>0.000000</td>\n",
       "      <td>0.500000</td>\n",
       "      <td>1.350000</td>\n",
       "      <td>0.000000</td>\n",
       "      <td>0.300000</td>\n",
       "      <td>11.800000</td>\n",
       "    </tr>\n",
       "    <tr>\n",
       "      <th>75%</th>\n",
       "      <td>8.537452e+07</td>\n",
       "      <td>2.000000</td>\n",
       "      <td>2.000000</td>\n",
       "      <td>3.060000</td>\n",
       "      <td>1.000000</td>\n",
       "      <td>233.000000</td>\n",
       "      <td>233.000000</td>\n",
       "      <td>2.000000</td>\n",
       "      <td>14.500000</td>\n",
       "      <td>0.500000</td>\n",
       "      <td>0.500000</td>\n",
       "      <td>2.450000</td>\n",
       "      <td>0.000000</td>\n",
       "      <td>0.300000</td>\n",
       "      <td>17.800000</td>\n",
       "    </tr>\n",
       "    <tr>\n",
       "      <th>max</th>\n",
       "      <td>1.134863e+08</td>\n",
       "      <td>2.000000</td>\n",
       "      <td>6.000000</td>\n",
       "      <td>33.960000</td>\n",
       "      <td>99.000000</td>\n",
       "      <td>265.000000</td>\n",
       "      <td>265.000000</td>\n",
       "      <td>4.000000</td>\n",
       "      <td>999.990000</td>\n",
       "      <td>4.500000</td>\n",
       "      <td>0.500000</td>\n",
       "      <td>200.000000</td>\n",
       "      <td>19.100000</td>\n",
       "      <td>0.300000</td>\n",
       "      <td>1200.290000</td>\n",
       "    </tr>\n",
       "  </tbody>\n",
       "</table>\n",
       "</div>"
      ],
      "text/plain": [
       "         Unnamed: 0      VendorID  passenger_count  trip_distance  \\\n",
       "count  2.269900e+04  22699.000000     22699.000000   22699.000000   \n",
       "mean   5.675849e+07      1.556236         1.642319       2.913313   \n",
       "std    3.274493e+07      0.496838         1.285231       3.653171   \n",
       "min    1.212700e+04      1.000000         0.000000       0.000000   \n",
       "25%    2.852056e+07      1.000000         1.000000       0.990000   \n",
       "50%    5.673150e+07      2.000000         1.000000       1.610000   \n",
       "75%    8.537452e+07      2.000000         2.000000       3.060000   \n",
       "max    1.134863e+08      2.000000         6.000000      33.960000   \n",
       "\n",
       "         RatecodeID  PULocationID  DOLocationID  payment_type   fare_amount  \\\n",
       "count  22699.000000  22699.000000  22699.000000  22699.000000  22699.000000   \n",
       "mean       1.043394    162.412353    161.527997      1.336887     13.026629   \n",
       "std        0.708391     66.633373     70.139691      0.496211     13.243791   \n",
       "min        1.000000      1.000000      1.000000      1.000000   -120.000000   \n",
       "25%        1.000000    114.000000    112.000000      1.000000      6.500000   \n",
       "50%        1.000000    162.000000    162.000000      1.000000      9.500000   \n",
       "75%        1.000000    233.000000    233.000000      2.000000     14.500000   \n",
       "max       99.000000    265.000000    265.000000      4.000000    999.990000   \n",
       "\n",
       "              extra       mta_tax    tip_amount  tolls_amount  \\\n",
       "count  22699.000000  22699.000000  22699.000000  22699.000000   \n",
       "mean       0.333275      0.497445      1.835781      0.312542   \n",
       "std        0.463097      0.039465      2.800626      1.399212   \n",
       "min       -1.000000     -0.500000      0.000000      0.000000   \n",
       "25%        0.000000      0.500000      0.000000      0.000000   \n",
       "50%        0.000000      0.500000      1.350000      0.000000   \n",
       "75%        0.500000      0.500000      2.450000      0.000000   \n",
       "max        4.500000      0.500000    200.000000     19.100000   \n",
       "\n",
       "       improvement_surcharge  total_amount  \n",
       "count           22699.000000  22699.000000  \n",
       "mean                0.299551     16.310502  \n",
       "std                 0.015673     16.097295  \n",
       "min                -0.300000   -120.300000  \n",
       "25%                 0.300000      8.750000  \n",
       "50%                 0.300000     11.800000  \n",
       "75%                 0.300000     17.800000  \n",
       "max                 0.300000   1200.290000  "
      ]
     },
     "execution_count": 20,
     "metadata": {},
     "output_type": "execute_result"
    }
   ],
   "source": [
    "# Use .describe()\n",
    "### YOUR CODE HERE ###\n",
    "df.describe()"
   ]
  },
  {
   "cell_type": "markdown",
   "metadata": {
    "id": "iXhaBfP_WOSR"
   },
   "source": [
    "### Task 2b. Convert pickup & dropoff columns to datetime\n"
   ]
  },
  {
   "cell_type": "code",
   "execution_count": 21,
   "metadata": {
    "id": "TbHu-SSInJCX"
   },
   "outputs": [
    {
     "data": {
      "text/plain": [
       "Unnamed: 0                 int64\n",
       "VendorID                   int64\n",
       "tpep_pickup_datetime      object\n",
       "tpep_dropoff_datetime     object\n",
       "passenger_count            int64\n",
       "trip_distance            float64\n",
       "RatecodeID                 int64\n",
       "store_and_fwd_flag        object\n",
       "PULocationID               int64\n",
       "DOLocationID               int64\n",
       "payment_type               int64\n",
       "fare_amount              float64\n",
       "extra                    float64\n",
       "mta_tax                  float64\n",
       "tip_amount               float64\n",
       "tolls_amount             float64\n",
       "improvement_surcharge    float64\n",
       "total_amount             float64\n",
       "dtype: object"
      ]
     },
     "execution_count": 21,
     "metadata": {},
     "output_type": "execute_result"
    }
   ],
   "source": [
    "# Check the format of the data\n",
    "### YOUR CODE HERE ###\n",
    "df.dtypes"
   ]
  },
  {
   "cell_type": "code",
   "execution_count": 23,
   "metadata": {
    "id": "h5L6OdYPqV0N"
   },
   "outputs": [],
   "source": [
    "# Convert datetime columns to datetime objects\n",
    "df['tpep_pickup_datetime'] = pd.to_datetime(df['tpep_pickup_datetime'])\n",
    "df['tpep_dropoff_datetime'] = pd.to_datetime(df['tpep_dropoff_datetime'])\n"
   ]
  },
  {
   "cell_type": "markdown",
   "metadata": {
    "id": "KlF7ZNSyW0yV"
   },
   "source": [
    "### Task 2c. Create duration column"
   ]
  },
  {
   "cell_type": "markdown",
   "metadata": {
    "id": "w1v_Y1uunbsx"
   },
   "source": [
    "Create a new column called `duration` that represents the total number of minutes that each taxi ride took."
   ]
  },
  {
   "cell_type": "code",
   "execution_count": 24,
   "metadata": {
    "id": "suC4LJFPMPCo"
   },
   "outputs": [],
   "source": [
    "# Create `duration` column in minutes\n",
    "df['duration'] = (df['tpep_dropoff_datetime'] - df['tpep_pickup_datetime']).dt.total_seconds() / 60\n"
   ]
  },
  {
   "cell_type": "markdown",
   "metadata": {
    "id": "7dcytBKhiGAr"
   },
   "source": [
    "### Outliers\n",
    "\n",
    "Call `df.info()` to inspect the columns and decide which ones to check for outliers."
   ]
  },
  {
   "cell_type": "code",
   "execution_count": 30,
   "metadata": {
    "id": "W5bCdL5SSfg1"
   },
   "outputs": [
    {
     "name": "stdout",
     "output_type": "stream",
     "text": [
      "<class 'pandas.core.frame.DataFrame'>\n",
      "Int64Index: 22699 entries, 0 to 22698\n",
      "Data columns (total 19 columns):\n",
      " #   Column                 Non-Null Count  Dtype         \n",
      "---  ------                 --------------  -----         \n",
      " 0   Unnamed: 0             22699 non-null  int64         \n",
      " 1   VendorID               22699 non-null  int64         \n",
      " 2   tpep_pickup_datetime   22699 non-null  datetime64[ns]\n",
      " 3   tpep_dropoff_datetime  22699 non-null  datetime64[ns]\n",
      " 4   passenger_count        22699 non-null  int64         \n",
      " 5   trip_distance          22699 non-null  float64       \n",
      " 6   RatecodeID             22699 non-null  int64         \n",
      " 7   store_and_fwd_flag     22699 non-null  object        \n",
      " 8   PULocationID           22699 non-null  int64         \n",
      " 9   DOLocationID           22699 non-null  int64         \n",
      " 10  payment_type           22699 non-null  int64         \n",
      " 11  fare_amount            22699 non-null  float64       \n",
      " 12  extra                  22699 non-null  float64       \n",
      " 13  mta_tax                22699 non-null  float64       \n",
      " 14  tip_amount             22699 non-null  float64       \n",
      " 15  tolls_amount           22699 non-null  float64       \n",
      " 16  improvement_surcharge  22699 non-null  float64       \n",
      " 17  total_amount           22699 non-null  float64       \n",
      " 18  duration               22699 non-null  float64       \n",
      "dtypes: datetime64[ns](2), float64(9), int64(7), object(1)\n",
      "memory usage: 3.5+ MB\n",
      "None\n"
     ]
    }
   ],
   "source": [
    "# Outliers inspection\n",
    "print(df.info())\n"
   ]
  },
  {
   "cell_type": "markdown",
   "metadata": {
    "id": "gS7VR2S0izZE"
   },
   "source": [
    "Keeping in mind that many of the features will not be used to fit your model, the most important columns to check for outliers are likely to be:\n",
    "* `trip_distance`\n",
    "* `fare_amount`\n",
    "* `duration`\n",
    "\n"
   ]
  },
  {
   "cell_type": "markdown",
   "metadata": {
    "id": "Vtj4iAJMk9Vc"
   },
   "source": [
    "### Task 2d. Box plots\n",
    "\n",
    "Plot a box plot for each feature: `trip_distance`, `fare_amount`, `duration`."
   ]
  },
  {
   "cell_type": "code",
   "execution_count": 28,
   "metadata": {
    "id": "KCEzE-gwL5gq"
   },
   "outputs": [
    {
     "data": {
      "image/png": "[encoded data removed]",
      "text/plain": [
       "<Figure size 864x432 with 3 Axes>"
      ]
     },
     "metadata": {
      "needs_background": "light"
     },
     "output_type": "display_data"
    }
   ],
   "source": [
    "# Box plots for key features\n",
    "plt.figure(figsize=(12, 6))\n",
    "plt.subplot(1, 3, 1)\n",
    "sns.boxplot(df['trip_distance'])\n",
    "plt.subplot(1, 3, 2)\n",
    "sns.boxplot(df['fare_amount'])\n",
    "plt.subplot(1, 3, 3)\n",
    "sns.boxplot(df['duration'])\n",
    "plt.show()\n"
   ]
  },
  {
   "cell_type": "markdown",
   "metadata": {
    "id": "pqcGiHLa4TvP"
   },
   "source": [
    "**Questions:** \n",
    "1. Which variable(s) contains outliers? \n",
    "\n",
    "2. Are the values in the `trip_distance` column unbelievable?\n",
    "\n",
    "3. What about the lower end? Do distances, fares, and durations of 0 (or negative values) make sense?"
   ]
  },
  {
   "cell_type": "markdown",
   "metadata": {
    "id": "FetTHatPoR6n"
   },
   "source": [
    "==> ENTER YOUR RESPONSE HERE"
   ]
  },
  {
   "cell_type": "markdown",
   "metadata": {},
   "source": [
    "### Task 2e. Imputations"
   ]
  },
  {
   "cell_type": "markdown",
   "metadata": {},
   "source": [
    "#### `trip_distance` outliers\n",
    "\n",
    "You know from the summary statistics that there are trip distances of 0. Are these reflective of erroneous data, or are they very short trips that get rounded down?\n",
    "\n",
    "To check, sort the column values, eliminate duplicates, and inspect the least 10 values. Are they rounded values or precise values?"
   ]
  },
  {
   "cell_type": "code",
   "execution_count": 31,
   "metadata": {},
   "outputs": [
    {
     "name": "stdout",
     "output_type": "stream",
     "text": [
      "     Unnamed: 0  VendorID tpep_pickup_datetime tpep_dropoff_datetime  \\\n",
      "128    52987734         1  2017-06-22 08:05:33   2017-06-22 08:05:40   \n",
      "246    78660848         1  2017-09-18 20:50:53   2017-09-18 20:51:03   \n",
      "291    83480088         1  2017-10-04 19:46:24   2017-10-04 19:46:50   \n",
      "319    14024301         1  2017-02-22 04:01:44   2017-02-22 04:01:53   \n",
      "424     3767951         1  2017-01-14 07:00:26   2017-01-14 07:00:53   \n",
      "\n",
      "     passenger_count  trip_distance  RatecodeID store_and_fwd_flag  \\\n",
      "128                1            0.0           3                  N   \n",
      "246                1            0.0           1                  N   \n",
      "291                1            0.0           1                  N   \n",
      "319                1            0.0           1                  N   \n",
      "424                1            0.0           1                  N   \n",
      "\n",
      "     PULocationID  DOLocationID  payment_type  fare_amount  extra  mta_tax  \\\n",
      "128           231           231             2         20.0    0.0      0.0   \n",
      "246           145           145             2          2.5    0.5      0.5   \n",
      "291           132           132             2          2.5    1.0      0.5   \n",
      "319            90            90             3          2.5    0.5      0.5   \n",
      "424           208           208             1          2.5    0.0      0.5   \n",
      "\n",
      "     tip_amount  tolls_amount  improvement_surcharge  total_amount  duration  \n",
      "128         0.0           0.0                    0.3          20.3  0.116667  \n",
      "246         0.0           0.0                    0.3           3.8  0.166667  \n",
      "291         0.0           0.0                    0.3           4.3  0.433333  \n",
      "319         0.0           0.0                    0.3           3.8  0.150000  \n",
      "424         6.7           0.0                    0.3          10.0  0.450000  \n"
     ]
    }
   ],
   "source": [
    "# Trip distance imputations\n",
    "# Check if zero distances are due to rounding or other issues\n",
    "zero_distance_rides = df[df['trip_distance'] == 0]\n",
    "print(zero_distance_rides.head())\n"
   ]
  },
  {
   "cell_type": "markdown",
   "metadata": {},
   "source": [
    "The distances are captured with a high degree of precision. However, it might be possible for trips to have distances of zero if a passenger summoned a taxi and then changed their mind. Besides, are there enough zero values in the data to pose a problem?\n",
    "\n",
    "Calculate the count of rides where the `trip_distance` is zero."
   ]
  },
  {
   "cell_type": "code",
   "execution_count": 32,
   "metadata": {},
   "outputs": [],
   "source": [
    "# Fare amount outliers\n",
    "# Impute negative fare amounts with 0\n",
    "df['fare_amount'] = df['fare_amount'].apply(lambda x: 0 if x < 0 else x)"
   ]
  },
  {
   "cell_type": "markdown",
   "metadata": {},
   "source": [
    "#### `fare_amount` outliers"
   ]
  },
  {
   "cell_type": "code",
   "execution_count": 33,
   "metadata": {},
   "outputs": [],
   "source": [
    "# Impute high fare outliers based on IQR\n",
    "fare_Q3 = df['fare_amount'].quantile(0.75)\n",
    "fare_IQR = df['fare_amount'].quantile(0.75) - df['fare_amount'].quantile(0.25)\n",
    "fare_upper_limit = fare_Q3 + (6 * fare_IQR)\n",
    "df['fare_amount'] = df['fare_amount'].apply(lambda x: fare_upper_limit if x > fare_upper_limit else x)"
   ]
  },
  {
   "cell_type": "markdown",
   "metadata": {},
   "source": [
    "**Question:** What do you notice about the values in the `fare_amount` column?\n",
    "\n",
    "Impute values less than $0 with `0`."
   ]
  },
  {
   "cell_type": "code",
   "execution_count": 37,
   "metadata": {},
   "outputs": [],
   "source": [
    "# Impute negative fare amounts with 0\n",
    "df['fare_amount'] = df['fare_amount'].apply(lambda x: 0 if x < 0 else x)"
   ]
  },
  {
   "cell_type": "markdown",
   "metadata": {},
   "source": [
    "Now impute the maximum value as `Q3 + (6 * IQR)`."
   ]
  },
  {
   "cell_type": "code",
   "execution_count": 41,
   "metadata": {},
   "outputs": [],
   "source": [
    "\n",
    "# Impute high fare outliers based on IQR\n",
    "# Already calculated fare_Q3 and fare_IQR\n",
    "# Impute high fare outliers based on IQR\n",
    "df['fare_amount'] = df['fare_amount'].apply(lambda x: fare_upper_limit if x > fare_upper_limit else x)\n",
    "\n",
    "def impute_outliers(df, column_list, iqr_factor):\n",
    "    for column in column_list:\n",
    "        Q1 = df[column].quantile(0.25)\n",
    "        Q3 = df[column].quantile(0.75)\n",
    "        IQR = Q3 - Q1\n",
    "        upper_limit = Q3 + (iqr_factor * IQR)\n",
    "\n",
    "        # Impute upper outliers\n",
    "        df[column] = df[column].apply(lambda x: upper_limit if x > upper_limit else x)\n",
    "\n",
    "        # Optionally, handle lower outliers\n",
    "        lower_limit = Q1 - (iqr_factor * IQR)\n",
    "        df[column] = df[column].apply(lambda x: lower_limit if x < lower_limit else x)\n",
    "\n",
    "# Example usage\n",
    "columns_to_impute = ['fare_amount', 'trip_distance', 'duration']\n",
    "impute_outliers(df, columns_to_impute, 6)\n"
   ]
  },
  {
   "cell_type": "markdown",
   "metadata": {},
   "source": [
    "#### `duration` outliers\n"
   ]
  },
  {
   "cell_type": "code",
   "execution_count": 42,
   "metadata": {},
   "outputs": [],
   "source": [
    "# Impute high duration outliers based on IQR\n",
    "duration_Q3 = df['duration'].quantile(0.75)\n",
    "duration_IQR = df['duration'].quantile(0.75) - df['duration'].quantile(0.25)\n",
    "duration_upper_limit = duration_Q3 + (6 * duration_IQR)\n",
    "df['duration'] = df['duration'].apply(lambda x: duration_upper_limit if x > duration_upper_limit else x)\n"
   ]
  },
  {
   "cell_type": "markdown",
   "metadata": {},
   "source": [
    "The `duration` column has problematic values at both the lower and upper extremities.\n",
    "\n",
    "* **Low values:** There should be no values that represent negative time. Impute all negative durations with `0`.\n",
    "\n",
    "* **High values:** Impute high values the same way you imputed the high-end outliers for fares: `Q3 + (6 * IQR)`."
   ]
  },
  {
   "cell_type": "code",
   "execution_count": null,
   "metadata": {},
   "outputs": [],
   "source": [
    "# Impute a 0 for any negative values\n",
    "### YOUR CODE HERE ###"
   ]
  },
  {
   "cell_type": "code",
   "execution_count": null,
   "metadata": {},
   "outputs": [],
   "source": [
    "# Impute the high outliers\n",
    "### YOUR CODE HERE ###"
   ]
  },
  {
   "cell_type": "markdown",
   "metadata": {},
   "source": [
    "### Task 3a. Feature engineering"
   ]
  },
  {
   "cell_type": "markdown",
   "metadata": {},
   "source": [
    "#### Create `mean_distance` column\n",
    "\n",
    "When deployed, the model will not know the duration of a trip until after the trip occurs, so you cannot train a model that uses this feature. However, you can use the statistics of trips you *do* know to generalize about ones you do not know.\n",
    "\n",
    "In this step, create a column called `mean_distance` that captures the mean distance for each group of trips that share pickup and dropoff points.\n",
    "\n",
    "For example, if your data were:\n",
    "\n",
    "|Trip|Start|End|Distance|\n",
    "|--: |:---:|:-:|    |\n",
    "| 1  | A   | B | 1  |\n",
    "| 2  | C   | D | 2  |\n",
    "| 3  | A   | B |1.5 |\n",
    "| 4  | D   | C | 3  |\n",
    "\n",
    "The results should be:\n",
    "```\n",
    "A -> B: 1.25 miles\n",
    "C -> D: 2 miles\n",
    "D -> C: 3 miles\n",
    "```\n",
    "\n",
    "Notice that C -> D is not the same as D -> C. All trips that share a unique pair of start and end points get grouped and averaged.\n",
    "\n",
    "Then, a new column `mean_distance` will be added where the value at each row is the average for all trips with those pickup and dropoff locations:\n",
    "\n",
    "|Trip|Start|End|Distance|mean_distance|\n",
    "|--: |:---:|:-:|  :--   |:--   |\n",
    "| 1  | A   | B | 1      | 1.25 |\n",
    "| 2  | C   | D | 2      | 2    |\n",
    "| 3  | A   | B |1.5     | 1.25 |\n",
    "| 4  | D   | C | 3      | 3    |\n",
    "\n",
    "\n",
    "Begin by creating a helper column called `pickup_dropoff`, which contains the unique combination of pickup and dropoff location IDs for each row.\n",
    "\n",
    "One way to do this is to convert the pickup and dropoff location IDs to strings and join them, separated by a space. The space is to ensure that, for example, a trip with pickup/dropoff points of 12 & 151 gets encoded differently than a trip with points 121 & 51.\n",
    "\n",
    "So, the new column would look like this:\n",
    "\n",
    "|Trip|Start|End|pickup_dropoff|\n",
    "|--: |:---:|:-:|  :--         |\n",
    "| 1  | A   | B | 'A B'        |\n",
    "| 2  | C   | D | 'C D'        |\n",
    "| 3  | A   | B | 'A B'        |\n",
    "| 4  | D   | C | 'D C'        |\n"
   ]
  },
  {
   "cell_type": "code",
   "execution_count": 43,
   "metadata": {},
   "outputs": [],
   "source": [
    "# Create `pickup_dropoff` column\n",
    "df['pickup_dropoff'] = df['PULocationID'].astype(str) + ' ' + df['DOLocationID'].astype(str)\n"
   ]
  },
  {
   "cell_type": "markdown",
   "metadata": {},
   "source": [
    "Now, use a `groupby()` statement to group each row by the new `pickup_dropoff` column, compute the mean, and capture the values only in the `trip_distance` column. Assign the results to a variable named `grouped`."
   ]
  },
  {
   "cell_type": "code",
   "execution_count": 44,
   "metadata": {},
   "outputs": [],
   "source": [
    "# Group by `pickup_dropoff` and calculate mean distance\n",
    "grouped = df.groupby('pickup_dropoff')['trip_distance'].mean()\n"
   ]
  },
  {
   "cell_type": "markdown",
   "metadata": {},
   "source": [
    "`grouped` is an object of the `DataFrame` class.\n",
    "\n",
    "1. Convert it to a dictionary using the [`to_dict()`](https://pandas.pydata.org/docs/reference/api/pandas.DataFrame.to_dict.html) method. Assign the results to a variable called `grouped_dict`. This will result in a dictionary with a key of `trip_distance` whose values are another dictionary. The inner dictionary's keys are pickup/dropoff points and its values are mean distances. This is the information you want.\n",
    "\n",
    "```\n",
    "Example:\n",
    "grouped_dict = {'trip_distance': {'A B': 1.25, 'C D': 2, 'D C': 3}\n",
    "```\n",
    "\n",
    "2. Reassign the `grouped_dict` dictionary so it contains only the inner dictionary. In other words, get rid of `trip_distance` as a key, so:\n",
    "\n",
    "```\n",
    "Example:\n",
    "grouped_dict = {'A B': 1.25, 'C D': 2, 'D C': 3}\n",
    " ```"
   ]
  },
  {
   "cell_type": "code",
   "execution_count": 45,
   "metadata": {},
   "outputs": [],
   "source": [
    "# Convert `grouped` to a dictionary\n",
    "grouped_dict = grouped.to_dict()\n",
    "\n",
    "\n",
    "# 2. Reassign to only contain the inner dictionary\n",
    "### YOUR CODE HERE ###"
   ]
  },
  {
   "cell_type": "markdown",
   "metadata": {},
   "source": [
    "1. Create a `mean_distance` column that is a copy of the `pickup_dropoff` helper column.\n",
    "\n",
    "2. Use the [`map()`](https://pandas.pydata.org/docs/reference/api/pandas.Series.map.html#pandas-series-map) method on the `mean_distance` series. Pass `grouped_dict` as its argument. Reassign the result back to the `mean_distance` series.\n",
    "</br></br>\n",
    "When you pass a dictionary to the `Series.map()` method, it will replace the data in the series where that data matches the dictionary's keys. The values that get imputed are the values of the dictionary.\n",
    "\n",
    "```\n",
    "Example:\n",
    "df['mean_distance']\n",
    "```\n",
    "\n",
    "|mean_distance |\n",
    "|  :-:         |\n",
    "| 'A B'        |\n",
    "| 'C D'        |\n",
    "| 'A B'        |\n",
    "| 'D C'        |\n",
    "| 'E F'        |\n",
    "\n",
    "```\n",
    "grouped_dict = {'A B': 1.25, 'C D': 2, 'D C': 3}\n",
    "df['mean_distance`] = df['mean_distance'].map(grouped_dict)\n",
    "df['mean_distance']\n",
    "```\n",
    "\n",
    "|mean_distance |\n",
    "|  :-:         |\n",
    "| 1.25         |\n",
    "| 2            |\n",
    "| 1.25         |\n",
    "| 3            |\n",
    "| NaN          |\n",
    "\n",
    "When used this way, the `map()` `Series` method is very similar to `replace()`, however, note that `map()` will impute `NaN` for any values in the series that do not have a corresponding key in the mapping dictionary, so be careful."
   ]
  },
  {
   "cell_type": "code",
   "execution_count": 47,
   "metadata": {},
   "outputs": [],
   "source": [
    "# Create `mean_distance` column and map the mean distances\n",
    "df['mean_distance'] = df['pickup_dropoff'].map(grouped_dict)\n",
    "\n",
    "# Impute negative durations with 0\n",
    "df['duration'] = df['duration'].apply(lambda x: 0 if x < 0 else x)\n",
    "\n",
    "# Impute high duration outliers based on IQR\n",
    "duration_Q3 = df['duration'].quantile(0.75)\n",
    "duration_IQR = df['duration'].quantile(0.75) - df['duration'].quantile(0.25)\n",
    "duration_upper_limit = duration_Q3 + (6 * duration_IQR)\n",
    "df['duration'] = df['duration'].apply(lambda x: duration_upper_limit if x > duration_upper_limit else x)\n"
   ]
  },
  {
   "cell_type": "markdown",
   "metadata": {},
   "source": [
    "#### Create `mean_duration` column\n",
    "\n",
    "Repeat the process used to create the `mean_distance` column to create a `mean_duration` column."
   ]
  },
  {
   "cell_type": "code",
   "execution_count": 48,
   "metadata": {},
   "outputs": [],
   "source": [
    "# Group by `pickup_dropoff` and calculate mean duration\n",
    "grouped_duration = df.groupby('pickup_dropoff')['duration'].mean()\n",
    "\n",
    "# Convert `grouped_duration` to a dictionary\n",
    "grouped_duration_dict = grouped_duration.to_dict()\n",
    "\n",
    "# Create `mean_duration` column and map the mean durations\n",
    "df['mean_duration'] = df['pickup_dropoff'].map(grouped_duration_dict)\n"
   ]
  },
  {
   "cell_type": "markdown",
   "metadata": {},
   "source": [
    "#### Create `day` and `month` columns\n",
    "\n",
    "Create two new columns, `day` (name of day) and `month` (name of month) by extracting the relevant information from the `tpep_pickup_datetime` column."
   ]
  },
  {
   "cell_type": "code",
   "execution_count": 49,
   "metadata": {},
   "outputs": [],
   "source": [
    "# Create 'day' and 'month' columns\n",
    "df['day'] = df['tpep_pickup_datetime'].dt.day_name()\n",
    "df['month'] = df['tpep_pickup_datetime'].dt.month_name()\n"
   ]
  },
  {
   "cell_type": "markdown",
   "metadata": {},
   "source": [
    "#### Create `rush_hour` column\n",
    "\n",
    "Define rush hour as:\n",
    "* Any weekday (not Saturday or Sunday) AND\n",
    "* Either from 06:00&ndash;10:00 or from 16:00&ndash;20:00\n",
    "\n",
    "Create a binary `rush_hour` column that contains a 1 if the ride was during rush hour and a 0 if it was not."
   ]
  },
  {
   "cell_type": "code",
   "execution_count": 55,
   "metadata": {},
   "outputs": [],
   "source": [
    "# Group by `pickup_dropoff` and calculate mean duration\n",
    "grouped_duration = df.groupby('pickup_dropoff')['duration'].mean()\n",
    "\n",
    "# Convert `grouped_duration` to a dictionary\n",
    "grouped_duration_dict = grouped_duration.to_dict()\n",
    "\n",
    "# Create `mean_duration` column and map the mean durations\n",
    "df['mean_duration'] = df['pickup_dropoff'].map(grouped_duration_dict)\n"
   ]
  },
  {
   "cell_type": "code",
   "execution_count": 54,
   "metadata": {},
   "outputs": [],
   "source": [
    "# Create 'day' and 'month' columns\n",
    "df['day'] = df['tpep_pickup_datetime'].dt.day_name()\n",
    "df['month'] = df['tpep_pickup_datetime'].dt.month_name()\n"
   ]
  },
  {
   "cell_type": "code",
   "execution_count": 53,
   "metadata": {},
   "outputs": [],
   "source": [
    "# Define a function to identify rush hours\n",
    "def rush_hourizer(row):\n",
    "    if row['day'] in ['Saturday', 'Sunday']:\n",
    "        return 0\n",
    "    hour = row['tpep_pickup_datetime'].hour\n",
    "    return 1 if (6 <= hour <= 10) or (16 <= hour <= 20) else 0\n",
    "\n",
    "# Apply the function to create 'rush_hour' column\n",
    "df['rush_hour'] = df.apply(rush_hourizer, axis=1)\n"
   ]
  },
  {
   "cell_type": "markdown",
   "metadata": {},
   "source": [
    "### Task 4. Scatter plot\n",
    "\n",
    "Create a scatterplot to visualize the relationship between `mean_duration` and `fare_amount`."
   ]
  },
  {
   "cell_type": "code",
   "execution_count": 56,
   "metadata": {},
   "outputs": [
    {
     "data": {
      "image/png": "[encoded data removed]",
      "text/plain": [
       "<Figure size 432x288 with 1 Axes>"
      ]
     },
     "metadata": {
      "needs_background": "light"
     },
     "output_type": "display_data"
    }
   ],
   "source": [
    "# Scatter plot\n",
    "plt.scatter(df['mean_duration'], df['fare_amount'])\n",
    "plt.xlabel('Mean Duration')\n",
    "plt.ylabel('Fare Amount')\n",
    "plt.show()\n"
   ]
  },
  {
   "cell_type": "markdown",
   "metadata": {},
   "source": [
    "The `mean_duration` variable correlates with the target variable. But what are the horizontal lines around fare amounts of 52 dollars and 63 dollars? What are the values and how many are there?\n",
    "\n",
    "You know what one of the lines represents. 62 dollars and 50 cents is the maximum that was imputed for outliers, so all former outliers will now have fare amounts of \\$62.50. What is the other line?\n",
    "\n",
    "Check the value of the rides in the second horizontal line in the scatter plot."
   ]
  },
  {
   "cell_type": "code",
   "execution_count": 58,
   "metadata": {},
   "outputs": [],
   "source": [
    "# Investigate specific fare amounts\n",
    "specific_fares = df[df['fare_amount'].isin([52, 62.5])]\n",
    "\n"
   ]
  },
  {
   "cell_type": "markdown",
   "metadata": {},
   "source": [
    "Examine the first 30 of these trips."
   ]
  },
  {
   "cell_type": "code",
   "execution_count": 59,
   "metadata": {},
   "outputs": [
    {
     "name": "stdout",
     "output_type": "stream",
     "text": [
      "     Unnamed: 0  VendorID tpep_pickup_datetime tpep_dropoff_datetime  \\\n",
      "11     18600059         2  2017-03-05 19:15:30   2017-03-05 19:52:18   \n",
      "21     85505540         2  2017-10-11 12:34:49   2017-10-11 13:22:38   \n",
      "29     94052446         2  2017-11-06 20:30:50   2017-11-07 00:00:00   \n",
      "110    47959795         1  2017-06-03 14:24:57   2017-06-03 15:31:48   \n",
      "161    95729204         2  2017-11-11 20:16:16   2017-11-11 20:17:14   \n",
      "174    53109134         1  2017-06-22 14:22:05   2017-06-22 16:07:28   \n",
      "176    50046493         2  2017-06-13 20:05:03   2017-06-13 20:42:53   \n",
      "247   103404868         2  2017-12-06 23:37:08   2017-12-07 00:06:19   \n",
      "316    61694138         2  2017-07-20 13:21:55   2017-07-20 14:21:20   \n",
      "379    80479432         2  2017-09-24 23:45:45   2017-09-25 00:15:14   \n",
      "388    16226157         1  2017-02-28 18:30:05   2017-02-28 19:09:55   \n",
      "406    55253442         2  2017-06-05 12:51:58   2017-06-05 13:07:35   \n",
      "414    12955020         2  2017-02-18 12:44:04   2017-02-18 13:29:10   \n",
      "449    65900029         2  2017-08-03 22:47:14   2017-08-03 23:32:41   \n",
      "468    80904240         2  2017-09-26 13:48:26   2017-09-26 14:31:17   \n",
      "520    33706214         2  2017-04-23 21:34:48   2017-04-23 22:46:23   \n",
      "569    99259872         2  2017-11-22 21:31:32   2017-11-22 22:00:25   \n",
      "572    61050418         2  2017-07-18 13:29:06   2017-07-18 13:29:19   \n",
      "586    54444647         2  2017-06-26 13:39:12   2017-06-26 14:34:54   \n",
      "692    94424289         2  2017-11-07 22:15:00   2017-11-07 22:45:32   \n",
      "717   103094220         1  2017-12-06 05:19:50   2017-12-06 05:53:52   \n",
      "719    66115834         1  2017-08-04 17:53:34   2017-08-04 18:50:56   \n",
      "782    55934137         2  2017-06-09 09:31:25   2017-06-09 10:24:10   \n",
      "816    13731926         2  2017-02-21 06:11:03   2017-02-21 06:59:39   \n",
      "818    52277743         2  2017-06-20 08:15:18   2017-06-20 10:24:37   \n",
      "835     2684305         2  2017-01-10 22:29:47   2017-01-10 23:06:46   \n",
      "840    90860814         2  2017-10-27 21:50:00   2017-10-27 22:35:04   \n",
      "861   106575186         1  2017-12-16 06:39:59   2017-12-16 07:07:59   \n",
      "881   110495611         2  2017-12-30 05:25:29   2017-12-30 06:01:29   \n",
      "908    25075013         2  2017-03-27 13:01:38   2017-03-27 13:38:44   \n",
      "\n",
      "     passenger_count  trip_distance  RatecodeID store_and_fwd_flag  \\\n",
      "11                 2          15.48           2                  N   \n",
      "21                 1          12.30           5                  N   \n",
      "29                 1          15.48           1                  N   \n",
      "110                1          15.48           2                  N   \n",
      "161                1           0.23           2                  N   \n",
      "174                1          15.48           1                  N   \n",
      "176                1          15.48           3                  N   \n",
      "247                1          15.48           2                  N   \n",
      "316                1          15.48           3                  N   \n",
      "379                1          15.48           2                  N   \n",
      "388                1          15.48           2                  N   \n",
      "406                1           4.73           2                  N   \n",
      "414                6          15.48           1                  N   \n",
      "449                2          15.48           2                  N   \n",
      "468                1          15.48           2                  N   \n",
      "520                6          15.48           2                  N   \n",
      "569                1          15.48           2                  N   \n",
      "572                1           0.00           2                  N   \n",
      "586                1          15.48           2                  N   \n",
      "692                2          15.48           2                  N   \n",
      "717                1          15.48           2                  N   \n",
      "719                1          15.48           2                  N   \n",
      "782                2          15.48           2                  N   \n",
      "816                5          15.48           2                  N   \n",
      "818                1          15.48           2                  N   \n",
      "835                1          15.48           2                  N   \n",
      "840                1          15.48           2                  N   \n",
      "861                2          15.48           2                  N   \n",
      "881                6          15.48           2                  N   \n",
      "908                2          15.48           4                  N   \n",
      "\n",
      "     PULocationID  DOLocationID  ...  tolls_amount  improvement_surcharge  \\\n",
      "11            236           132  ...          5.54                    0.3   \n",
      "21            138           265  ...         16.26                    0.3   \n",
      "29            132            23  ...         11.52                    0.3   \n",
      "110           132           163  ...          0.00                    0.3   \n",
      "161           132           132  ...          0.00                    0.3   \n",
      "174           230           219  ...          0.00                    0.3   \n",
      "176           163             1  ...         10.50                    0.3   \n",
      "247           132            79  ...          0.00                    0.3   \n",
      "316           170             1  ...         16.50                    0.3   \n",
      "379           132           234  ...          5.76                    0.3   \n",
      "388           132            48  ...          5.54                    0.3   \n",
      "406           228            88  ...          5.76                    0.3   \n",
      "414           132           106  ...          0.00                    0.3   \n",
      "449           132            48  ...          5.76                    0.3   \n",
      "468           186           132  ...          5.76                    0.3   \n",
      "520           132           148  ...          0.00                    0.3   \n",
      "569           132           144  ...          0.00                    0.3   \n",
      "572           230           161  ...          5.76                    0.3   \n",
      "586           211           132  ...          5.76                    0.3   \n",
      "692           132           170  ...          5.76                    0.3   \n",
      "717           132           239  ...          5.76                    0.3   \n",
      "719           264           264  ...          5.76                    0.3   \n",
      "782           163           132  ...          0.00                    0.3   \n",
      "816           132           170  ...          5.54                    0.3   \n",
      "818           132           246  ...          5.76                    0.3   \n",
      "835           132            48  ...          0.00                    0.3   \n",
      "840           132           163  ...          5.76                    0.3   \n",
      "861            75           132  ...          5.76                    0.3   \n",
      "881            68           132  ...          0.00                    0.3   \n",
      "908           138           265  ...          5.76                    0.3   \n",
      "\n",
      "     total_amount   duration  pickup_dropoff  mean_distance  mean_duration  \\\n",
      "11          72.92  36.800000         236 132      15.480000      40.500000   \n",
      "21          96.81  47.816667         138 265      14.706000      39.376667   \n",
      "29         111.38  88.783333          132 23      15.480000      88.783333   \n",
      "110         52.80  66.850000         132 163      15.480000      52.941667   \n",
      "161         52.80   0.966667         132 132       1.941034       3.021839   \n",
      "174         72.30  88.783333         230 219      15.480000      88.783333   \n",
      "176         80.80  37.833333           163 1      15.480000      37.833333   \n",
      "247         52.80  29.183333          132 79      15.480000      47.275000   \n",
      "316         94.80  59.416667           170 1      15.480000      38.955556   \n",
      "379         73.20  29.483333         132 234      15.480000      49.833333   \n",
      "388         62.84  39.833333          132 48      15.480000      58.246032   \n",
      "406         58.56  15.616667          228 88       4.730000      15.616667   \n",
      "414         84.36  45.100000         132 106      14.720000      40.483333   \n",
      "449         58.56  45.450000          132 48      15.480000      58.246032   \n",
      "468         58.56  42.850000         186 132      15.480000      42.920000   \n",
      "520         57.80  71.583333         132 148      15.480000      46.340476   \n",
      "569         63.36  28.883333         132 144      15.480000      37.000000   \n",
      "572         70.27   0.216667         230 161       0.685484       7.965591   \n",
      "586         70.27  55.700000         211 132      15.440000      61.691667   \n",
      "692         70.27  30.533333         132 170      15.480000      37.113333   \n",
      "717         64.41  34.033333         132 239      15.480000      44.862500   \n",
      "719         75.66  57.366667         264 264       3.018845      15.618773   \n",
      "782         66.00  52.750000         163 132      15.449167      52.338889   \n",
      "816         60.34  48.600000         132 170      15.480000      37.113333   \n",
      "818         70.27  88.783333         132 246      15.480000      66.316667   \n",
      "835         66.00  36.983333          132 48      15.480000      58.246032   \n",
      "840         58.56  45.066667         132 163      15.480000      52.941667   \n",
      "861         64.56  28.000000          75 132      15.480000      36.204167   \n",
      "881         52.80  36.000000          68 132      15.480000      58.041667   \n",
      "908        121.56  37.100000         138 265      14.706000      39.376667   \n",
      "\n",
      "           day      month rush_hour  \n",
      "11      Sunday      March         0  \n",
      "21   Wednesday    October         0  \n",
      "29      Monday   November         1  \n",
      "110   Saturday       June         0  \n",
      "161   Saturday   November         0  \n",
      "174   Thursday       June         0  \n",
      "176    Tuesday       June         1  \n",
      "247  Wednesday   December         0  \n",
      "316   Thursday       July         0  \n",
      "379     Sunday  September         0  \n",
      "388    Tuesday   February         1  \n",
      "406     Monday       June         0  \n",
      "414   Saturday   February         0  \n",
      "449   Thursday     August         0  \n",
      "468    Tuesday  September         0  \n",
      "520     Sunday      April         0  \n",
      "569  Wednesday   November         0  \n",
      "572    Tuesday       July         0  \n",
      "586     Monday       June         0  \n",
      "692    Tuesday   November         0  \n",
      "717  Wednesday   December         0  \n",
      "719     Friday     August         1  \n",
      "782     Friday       June         1  \n",
      "816    Tuesday   February         1  \n",
      "818    Tuesday       June         1  \n",
      "835    Tuesday    January         0  \n",
      "840     Friday    October         0  \n",
      "861   Saturday   December         0  \n",
      "881   Saturday   December         0  \n",
      "908     Monday      March         0  \n",
      "\n",
      "[30 rows x 25 columns]\n"
     ]
    }
   ],
   "source": [
    "print(specific_fares.head(30))"
   ]
  },
  {
   "cell_type": "markdown",
   "metadata": {},
   "source": [
    "**Question:** What do you notice about the first 30 trips?\n",
    "\n",
    "    We need to reset the index after removing rows of data. "
   ]
  },
  {
   "cell_type": "markdown",
   "metadata": {},
   "source": [
    "### Task 5. Isolate modeling variables\n",
    "\n",
    "Drop features that are redundant, irrelevant, or that will not be available in a deployed environment."
   ]
  },
  {
   "cell_type": "code",
   "execution_count": 60,
   "metadata": {},
   "outputs": [],
   "source": [
    "# Dropping unnecessary columns\n",
    "df.drop(['tpep_pickup_datetime', 'tpep_dropoff_datetime', 'pickup_dropoff'], axis=1, inplace=True)\n"
   ]
  },
  {
   "cell_type": "code",
   "execution_count": null,
   "metadata": {},
   "outputs": [],
   "source": [
    "### YOUR CODE HERE ###"
   ]
  },
  {
   "cell_type": "markdown",
   "metadata": {},
   "source": [
    "### Task 6. Pair plot\n",
    "\n",
    "Create a pairplot to visualize pairwise relationships between `fare_amount`, `mean_duration`, and `mean_distance`."
   ]
  },
  {
   "cell_type": "code",
   "execution_count": 61,
   "metadata": {},
   "outputs": [
    {
     "data": {
      "image/png": "[encoded data removed]",
      "text/plain": [
       "<Figure size 540x540 with 12 Axes>"
      ]
     },
     "metadata": {
      "needs_background": "light"
     },
     "output_type": "display_data"
    }
   ],
   "source": [
    "# Pair plot\n",
    "sns.pairplot(df[['fare_amount', 'mean_duration', 'mean_distance']])\n",
    "plt.show()\n"
   ]
  },
  {
   "cell_type": "markdown",
   "metadata": {},
   "source": [
    "These variables all show linear correlation with each other. Investigate this further."
   ]
  },
  {
   "cell_type": "markdown",
   "metadata": {},
   "source": [
    "### Task 7. Identify correlations"
   ]
  },
  {
   "cell_type": "markdown",
   "metadata": {},
   "source": [
    "Next, code a correlation matrix to help determine most correlated variables."
   ]
  },
  {
   "cell_type": "code",
   "execution_count": 63,
   "metadata": {},
   "outputs": [
    {
     "name": "stdout",
     "output_type": "stream",
     "text": [
      "               fare_amount  mean_duration  mean_distance\n",
      "fare_amount       1.000000       0.859105       0.913404\n",
      "mean_duration     0.859105       1.000000       0.885492\n",
      "mean_distance     0.913404       0.885492       1.000000\n"
     ]
    }
   ],
   "source": [
    "# Correlation matrix\n",
    "corr_matrix = df[['fare_amount', 'mean_duration', 'mean_distance']].corr()\n",
    "print(corr_matrix)\n",
    "\n"
   ]
  },
  {
   "cell_type": "markdown",
   "metadata": {},
   "source": [
    "Visualize a correlation heatmap of the data."
   ]
  },
  {
   "cell_type": "code",
   "execution_count": 64,
   "metadata": {},
   "outputs": [
    {
     "data": {
      "image/png": "[encoded data removed]",
      "text/plain": [
       "<Figure size 432x288 with 2 Axes>"
      ]
     },
     "metadata": {
      "needs_background": "light"
     },
     "output_type": "display_data"
    }
   ],
   "source": [
    "\n",
    "# Correlation heatmap\n",
    "sns.heatmap(corr_matrix, annot=True)\n",
    "plt.show()"
   ]
  },
  {
   "cell_type": "markdown",
   "metadata": {},
   "source": [
    "**Question:** Which variable(s) are correlated with the target variable of `fare_amount`? \n",
    "\n",
    "Try modeling with both variables even though they are correlated."
   ]
  },
  {
   "cell_type": "markdown",
   "metadata": {
    "id": "lgPul2DiY6T4"
   },
   "source": [
    "<img src=\"images/Construct.png\" width=\"100\" height=\"100\" align=left>\n",
    "\n",
    "## PACE: **Construct**\n",
    "\n",
    "After analysis and deriving variables with close relationships, it is time to begin constructing the model. Consider the questions in your PACE Strategy Document to reflect on the Construct stage.\n"
   ]
  },
  {
   "cell_type": "markdown",
   "metadata": {
    "id": "P_QYzJfVUrIc"
   },
   "source": [
    "### Task 8a. Split data into outcome variable and features"
   ]
  },
  {
   "cell_type": "code",
   "execution_count": 66,
   "metadata": {
    "id": "AzcDgLRET4d7"
   },
   "outputs": [
    {
     "name": "stdout",
     "output_type": "stream",
     "text": [
      "   Unnamed: 0  VendorID  passenger_count  trip_distance  RatecodeID  \\\n",
      "0    24870114         2                6           3.34           1   \n",
      "1    35634249         1                1           1.80           1   \n",
      "2   106203690         1                1           1.00           1   \n",
      "3    38942136         2                1           3.70           1   \n",
      "4    30841670         2                1           4.37           1   \n",
      "\n",
      "  store_and_fwd_flag  PULocationID  DOLocationID  payment_type  extra  ...  \\\n",
      "0                  N           100           231             1    0.0  ...   \n",
      "1                  N           186            43             1    0.0  ...   \n",
      "2                  N           262           236             1    0.0  ...   \n",
      "3                  N           188            97             1    0.0  ...   \n",
      "4                  N             4           112             2    0.5  ...   \n",
      "\n",
      "   tip_amount  tolls_amount  improvement_surcharge  total_amount   duration  \\\n",
      "0        2.76           0.0                    0.3         16.56  14.066667   \n",
      "1        4.00           0.0                    0.3         20.80  26.500000   \n",
      "2        1.45           0.0                    0.3          8.75   7.200000   \n",
      "3        6.39           0.0                    0.3         27.69  30.250000   \n",
      "4        0.00           0.0                    0.3         17.80  16.716667   \n",
      "\n",
      "   mean_distance  mean_duration       day     month rush_hour  \n",
      "0       3.521667      22.847222  Saturday     March         0  \n",
      "1       3.108889      24.470370   Tuesday     April         0  \n",
      "2       0.881429       7.250000    Friday  December         1  \n",
      "3       3.700000      30.250000    Sunday       May         0  \n",
      "4       4.435000      14.616667  Saturday     April         0  \n",
      "\n",
      "[5 rows x 21 columns]\n",
      "0    13.0\n",
      "1    16.0\n",
      "2     6.5\n",
      "3    20.5\n",
      "4    16.5\n",
      "Name: fare_amount, dtype: float64\n"
     ]
    }
   ],
   "source": [
    "# Set your X and y variables\n",
    "X = df.drop(columns='fare_amount')\n",
    "y = df['fare_amount']\n",
    "\n",
    "# Display first few rows to confirm\n",
    "print(X.head())\n",
    "print(y.head())\n"
   ]
  },
  {
   "cell_type": "markdown",
   "metadata": {},
   "source": [
    "Set your X and y variables. X represents the features and y represents the outcome (target) variable."
   ]
  },
  {
   "cell_type": "code",
   "execution_count": null,
   "metadata": {},
   "outputs": [],
   "source": []
  },
  {
   "cell_type": "markdown",
   "metadata": {
    "id": "o3ArC_5xa7Oi"
   },
   "source": [
    "### Task 8b. Pre-process data\n"
   ]
  },
  {
   "cell_type": "markdown",
   "metadata": {
    "id": "PdfTaopCcbTj"
   },
   "source": [
    "Dummy encode categorical variables"
   ]
  },
  {
   "cell_type": "code",
   "execution_count": 67,
   "metadata": {
    "id": "4Y3T2poF28fP"
   },
   "outputs": [],
   "source": [
    "# Convert VendorID to string\n",
    "df['VendorID'] = df['VendorID'].astype(str)\n",
    "\n",
    "# Get dummies for categorical variables\n",
    "X = pd.get_dummies(X)\n"
   ]
  },
  {
   "cell_type": "markdown",
   "metadata": {},
   "source": [
    "### Split data into training and test sets"
   ]
  },
  {
   "cell_type": "markdown",
   "metadata": {},
   "source": [
    "Create training and testing sets. The test set should contain 20% of the total samples. Set `random_state=0`."
   ]
  },
  {
   "cell_type": "code",
   "execution_count": 68,
   "metadata": {
    "id": "A2BNUvacwaZY"
   },
   "outputs": [],
   "source": [
    "from sklearn.model_selection import train_test_split\n",
    "\n",
    "# Create training and testing sets\n",
    "X_train, X_test, y_train, y_test = train_test_split(X, y, test_size=0.2, random_state=0)\n"
   ]
  },
  {
   "cell_type": "markdown",
   "metadata": {
    "id": "iDYyjWssbnBG"
   },
   "source": [
    "### Standardize the data\n",
    "\n",
    "Use `StandardScaler()`, `fit()`, and `transform()` to standardize the `X_train` variables. Assign the results to a variable called `X_train_scaled`."
   ]
  },
  {
   "cell_type": "code",
   "execution_count": 69,
   "metadata": {},
   "outputs": [],
   "source": [
    "from sklearn.preprocessing import StandardScaler\n",
    "\n",
    "# Standardize the X variables\n",
    "scaler = StandardScaler()\n",
    "X_train_scaled = scaler.fit_transform(X_train)\n"
   ]
  },
  {
   "cell_type": "markdown",
   "metadata": {
    "id": "wk0rjKeO3JLv"
   },
   "source": [
    "### Fit the model\n",
    "\n",
    "Instantiate your model and fit it to the training data."
   ]
  },
  {
   "cell_type": "code",
   "execution_count": 70,
   "metadata": {
    "id": "SClNm5hWotj6"
   },
   "outputs": [
    {
     "data": {
      "text/plain": [
       "LinearRegression(copy_X=True, fit_intercept=True, n_jobs=None, normalize=False)"
      ]
     },
     "execution_count": 70,
     "metadata": {},
     "output_type": "execute_result"
    }
   ],
   "source": [
    "from sklearn.linear_model import LinearRegression\n",
    "\n",
    "# Fit your model to the training data\n",
    "model = LinearRegression()\n",
    "model.fit(X_train_scaled, y_train)\n"
   ]
  },
  {
   "cell_type": "markdown",
   "metadata": {
    "id": "HMj6QkK1cLmS"
   },
   "source": [
    "### Task 8c. Evaluate model"
   ]
  },
  {
   "cell_type": "markdown",
   "metadata": {
    "id": "AromLx7t5hjt"
   },
   "source": [
    "### Train data\n",
    "\n",
    "Evaluate your model performance by calculating the residual sum of squares and the explained variance score (R^2). Calculate the Mean Absolute Error, Mean Squared Error, and the Root Mean Squared Error."
   ]
  },
  {
   "cell_type": "code",
   "execution_count": 71,
   "metadata": {
    "id": "33rE1x9e3U6t"
   },
   "outputs": [
    {
     "name": "stdout",
     "output_type": "stream",
     "text": [
      "Training MAE: 0.8872088794702359\n",
      "Training MSE: 7.23694891211149\n",
      "Training RMSE: 2.690157785727724\n",
      "Training R^2: 0.9352117378661376\n"
     ]
    }
   ],
   "source": [
    "from sklearn.metrics import mean_absolute_error, mean_squared_error\n",
    "\n",
    "# Make predictions on the training data\n",
    "y_train_pred = model.predict(X_train_scaled)\n",
    "\n",
    "# Calculate metrics\n",
    "mae_train = mean_absolute_error(y_train, y_train_pred)\n",
    "mse_train = mean_squared_error(y_train, y_train_pred)\n",
    "rmse_train = np.sqrt(mse_train)\n",
    "r2_train = model.score(X_train_scaled, y_train)\n",
    "\n",
    "print(f'Training MAE: {mae_train}')\n",
    "print(f'Training MSE: {mse_train}')\n",
    "print(f'Training RMSE: {rmse_train}')\n",
    "print(f'Training R^2: {r2_train}')\n"
   ]
  },
  {
   "cell_type": "markdown",
   "metadata": {},
   "source": [
    "### Test data\n",
    "\n",
    "Calculate the same metrics on the test data. Remember to scale the `X_test` data using the scaler that was fit to the training data. Do not refit the scaler to the testing data, just transform it. Call the results `X_test_scaled`."
   ]
  },
  {
   "cell_type": "code",
   "execution_count": 72,
   "metadata": {},
   "outputs": [],
   "source": [
    "# Scale the X_test data\n",
    "X_test_scaled = scaler.transform(X_test)\n"
   ]
  },
  {
   "cell_type": "code",
   "execution_count": 74,
   "metadata": {
    "id": "P5nXSpRCVXq6"
   },
   "outputs": [
    {
     "name": "stdout",
     "output_type": "stream",
     "text": [
      "Test MAE: 0.8036033530969816\n",
      "Test MSE: 3.654889792599843\n",
      "Test RMSE: 1.9117766063533268\n",
      "Test R^2: 0.9663907653112228\n"
     ]
    }
   ],
   "source": [
    "# Make predictions on the testing data\n",
    "y_test_pred = model.predict(X_test_scaled)\n",
    "\n",
    "# Calculate metrics\n",
    "mae_test = mean_absolute_error(y_test, y_test_pred)\n",
    "mse_test = mean_squared_error(y_test, y_test_pred)\n",
    "rmse_test = np.sqrt(mse_test)\n",
    "r2_test = model.score(X_test_scaled, y_test)\n",
    "\n",
    "print(f'Test MAE: {mae_test}')\n",
    "print(f'Test MSE: {mse_test}')\n",
    "print(f'Test RMSE: {rmse_test}')\n",
    "print(f'Test R^2: {r2_test}')"
   ]
  },
  {
   "cell_type": "markdown",
   "metadata": {
    "id": "L3MCKUhPJLi5"
   },
   "source": [
    "<img src=\"images/Execute.png\" width=\"100\" height=\"100\" align=left>\n",
    "\n",
    "## PACE: **Execute**\n",
    "\n",
    "Consider the questions in your PACE Strategy Document to reflect on the Execute stage."
   ]
  },
  {
   "cell_type": "markdown",
   "metadata": {
    "id": "F_l3bkxQdJ3a"
   },
   "source": [
    "### Task 9a. Results\n",
    "\n",
    "Use the code cell below to get `actual`,`predicted`, and `residual` for the testing set, and store them as columns in a `results` dataframe."
   ]
  },
  {
   "cell_type": "code",
   "execution_count": 75,
   "metadata": {
    "id": "cSl5gbXfBPBN"
   },
   "outputs": [],
   "source": [
    "results = pd.DataFrame({'Actual': y_test, 'Predicted': y_test_pred})\n",
    "results['Residual'] = results['Actual'] - results['Predicted']\n"
   ]
  },
  {
   "cell_type": "markdown",
   "metadata": {
    "id": "mwRmSDS3eyeH"
   },
   "source": [
    "### Task 9b. Visualize model results"
   ]
  },
  {
   "cell_type": "markdown",
   "metadata": {
    "id": "y3vQ-mB51dfd"
   },
   "source": [
    "Create a scatterplot to visualize `actual` vs. `predicted`."
   ]
  },
  {
   "cell_type": "code",
   "execution_count": 76,
   "metadata": {
    "id": "IBFU_dicBjwQ"
   },
   "outputs": [
    {
     "data": {
      "image/png": "[encoded data removed]",
      "text/plain": [
       "<Figure size 432x288 with 1 Axes>"
      ]
     },
     "metadata": {
      "needs_background": "light"
     },
     "output_type": "display_data"
    }
   ],
   "source": [
    "plt.scatter(results['Predicted'], results['Actual'])\n",
    "plt.xlabel('Predicted Fare Amount')\n",
    "plt.ylabel('Actual Fare Amount')\n",
    "plt.title('Predicted vs Actual Fare Amount')\n",
    "plt.show()\n"
   ]
  },
  {
   "cell_type": "markdown",
   "metadata": {
    "id": "IbO71S_R9IcY"
   },
   "source": [
    "Visualize the distribution of the `residuals` using a histogram."
   ]
  },
  {
   "cell_type": "code",
   "execution_count": 81,
   "metadata": {
    "id": "3a0UYoEr9Nx6"
   },
   "outputs": [
    {
     "data": {
      "image/png": "[encoded data removed]",
      "text/plain": [
       "<Figure size 432x288 with 1 Axes>"
      ]
     },
     "metadata": {
      "needs_background": "light"
     },
     "output_type": "display_data"
    }
   ],
   "source": [
    "plt.hist(results['Residual'], bins=20)\n",
    "plt.xlabel('Residual')\n",
    "plt.ylabel('Frequency')\n",
    "plt.title('Distribution of Residuals')\n",
    "plt.show()\n",
    "\n",
    "\n"
   ]
  },
  {
   "cell_type": "code",
   "execution_count": 82,
   "metadata": {},
   "outputs": [
    {
     "name": "stdout",
     "output_type": "stream",
     "text": [
      "Residual Mean: -0.012952096140194273\n"
     ]
    }
   ],
   "source": [
    "# Calculate residual mean\n",
    "residual_mean = results['Residual'].mean()\n",
    "print(f'Residual Mean: {residual_mean}')"
   ]
  },
  {
   "cell_type": "markdown",
   "metadata": {
    "id": "OCnELck-9h5M"
   },
   "source": [
    "Create a scatterplot of `residuals` over `predicted`."
   ]
  },
  {
   "cell_type": "code",
   "execution_count": 83,
   "metadata": {
    "id": "7Kmr2U8A95fY"
   },
   "outputs": [
    {
     "data": {
      "image/png": "[encoded data removed]",
      "text/plain": [
       "<Figure size 432x288 with 1 Axes>"
      ]
     },
     "metadata": {
      "needs_background": "light"
     },
     "output_type": "display_data"
    }
   ],
   "source": [
    "plt.scatter(results['Predicted'], results['Residual'])\n",
    "plt.xlabel('Predicted Fare Amount')\n",
    "plt.ylabel('Residual')\n",
    "plt.title('Residuals over Predicted Fare Amount')\n",
    "plt.axhline(y=0, color='r', linestyle='-')\n",
    "plt.show()\n"
   ]
  },
  {
   "cell_type": "markdown",
   "metadata": {},
   "source": [
    "### Task 9c. Coefficients\n",
    "\n",
    "Use the `coef_` attribute to get the model's coefficients. The coefficients are output in the order of the features that were used to train the model. Which feature had the greatest effect on trip fare?"
   ]
  },
  {
   "cell_type": "code",
   "execution_count": 84,
   "metadata": {},
   "outputs": [
    {
     "name": "stdout",
     "output_type": "stream",
     "text": [
      "[-3.26863520e-02 -3.86174198e-02 -1.12079354e-02  4.66688361e+00\n",
      "  5.96868008e-01  5.92819969e-03 -1.24790580e-04 -2.99021099e-01\n",
      " -1.19094789e-01 -5.13282100e-01 -1.34330390e+00  2.59052105e-01\n",
      "  3.17160825e-01  3.68474977e+00  2.42350030e+00  8.86354565e-01\n",
      "  7.95275848e-02 -2.85556093e-03  5.47733374e+07  5.47733374e+07\n",
      "  2.71710823e+09  2.54633551e+09  2.68746488e+09  2.58187398e+09\n",
      "  2.69865860e+09  2.62918716e+09  2.71466305e+09 -1.42033891e+11\n",
      " -1.31916274e+11 -1.37696208e+11 -1.34634025e+11 -1.42393337e+11\n",
      " -1.32049575e+11 -1.40906958e+11 -1.44366196e+11 -1.40093851e+11\n",
      " -1.36219859e+11 -1.43029058e+11 -1.34027062e+11]\n",
      "The coefficient for Unnamed: 0 is -0.03268635202359247\n",
      "The coefficient for VendorID is -0.038617419776087736\n",
      "The coefficient for passenger_count is -0.011207935395801427\n",
      "The coefficient for trip_distance is 4.666883605552331\n",
      "The coefficient for RatecodeID is 0.5968680082978168\n",
      "The coefficient for PULocationID is 0.005928199691289385\n",
      "The coefficient for DOLocationID is -0.0001247905797953406\n",
      "The coefficient for payment_type is -0.2990210989350497\n",
      "The coefficient for extra is -0.11909478898310791\n",
      "The coefficient for mta_tax is -0.5132820997086204\n",
      "The coefficient for tip_amount is -1.3433039019539799\n",
      "The coefficient for tolls_amount is 0.25905210457962374\n",
      "The coefficient for improvement_surcharge is 0.31716082505164894\n",
      "The coefficient for total_amount is 3.68474977350084\n",
      "The coefficient for duration is 2.4235002981041838\n",
      "The coefficient for mean_distance is 0.8863545650523277\n",
      "The coefficient for mean_duration is 0.07952758484989311\n",
      "The coefficient for rush_hour is -0.0028555609269106936\n",
      "The coefficient for store_and_fwd_flag_N is 54773337.35053332\n",
      "The coefficient for store_and_fwd_flag_Y is 54773337.371712856\n",
      "The coefficient for day_Friday is 2717108233.429227\n",
      "The coefficient for day_Monday is 2546335513.750302\n",
      "The coefficient for day_Saturday is 2687464881.660106\n",
      "The coefficient for day_Sunday is 2581873980.7368093\n",
      "The coefficient for day_Thursday is 2698658599.907132\n",
      "The coefficient for day_Tuesday is 2629187156.7006326\n",
      "The coefficient for day_Wednesday is 2714663051.6775856\n",
      "The coefficient for month_April is -142033891305.30573\n",
      "The coefficient for month_August is -131916274110.41234\n",
      "The coefficient for month_December is -137696208109.7101\n",
      "The coefficient for month_February is -134634025138.6413\n",
      "The coefficient for month_January is -142393336953.71002\n",
      "The coefficient for month_July is -132049575435.95866\n",
      "The coefficient for month_June is -140906958001.42368\n",
      "The coefficient for month_March is -144366195785.47903\n",
      "The coefficient for month_May is -140093851299.86044\n",
      "The coefficient for month_November is -136219858694.23427\n",
      "The coefficient for month_October is -143029058134.7335\n",
      "The coefficient for month_September is -134027062302.88734\n"
     ]
    }
   ],
   "source": [
    "# Output the model's coefficients\n",
    "coefficients = model.coef_\n",
    "print(coefficients)\n",
    "\n",
    "# Interpretation of coefficients\n",
    "# Each coefficient corresponds to the feature in X_train\n",
    "for idx, col_name in enumerate(X_train.columns):\n",
    "    print(f\"The coefficient for {col_name} is {coefficients[idx]}\")\n"
   ]
  },
  {
   "cell_type": "markdown",
   "metadata": {},
   "source": [
    "What do these coefficients mean? How should they be interpreted?"
   ]
  },
  {
   "cell_type": "markdown",
   "metadata": {},
   "source": [
    "==> ENTER YOUR RESPONSE HERE "
   ]
  },
  {
   "cell_type": "markdown",
   "metadata": {
    "id": "P6AlDDyhdzmG"
   },
   "source": [
    "### Task 9d. Conclusion\n",
    "\n",
    "1. What are the key takeaways from this notebook?\n",
    "\n",
    "\n",
    "\n",
    "2. What results can be presented from this notebook?\n",
    "\n"
   ]
  },
  {
   "cell_type": "markdown",
   "metadata": {},
   "source": [
    "==> ENTER YOUR RESPONSE HERE "
   ]
  },
  {
   "cell_type": "markdown",
   "metadata": {},
   "source": [
    "**Congratulations!** You've completed this lab. However, you may not notice a green check mark next to this item on Coursera's platform. Please continue your progress regardless of the check mark. Just click on the \"save\" icon at the top of this notebook to ensure your work has been logged. "
   ]
  }
 ],
 "metadata": {
  "colab": {
   "provenance": [],
   "toc_visible": true
  },
  "kernelspec": {
   "display_name": "Python 3",
   "language": "python",
   "name": "python3"
  },
  "language_info": {
   "codemirror_mode": {
    "name": "ipython",
    "version": 3
   },
   "file_extension": ".py",
   "mimetype": "text/x-python",
   "name": "python",
   "nbconvert_exporter": "python",
   "pygments_lexer": "ipython3",
   "version": "3.7.6"
  }
 },
 "nbformat": 4,
 "nbformat_minor": 1
}
